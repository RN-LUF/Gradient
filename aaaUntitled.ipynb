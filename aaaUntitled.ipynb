{
 "cells": [
  {
   "cell_type": "code",
   "execution_count": 1,
   "id": "9ca3670a-9ea8-4822-8f56-acefebeca9a9",
   "metadata": {},
   "outputs": [
    {
     "data": {
      "text/plain": [
       "<Figure size 1000x600 with 0 Axes>"
      ]
     },
     "metadata": {},
     "output_type": "display_data"
    },
    {
     "data": {
      "application/vnd.jupyter.widget-view+json": {
       "model_id": "a2c5277e96e84945a8073b99ce0f2422",
       "version_major": 2,
       "version_minor": 0
      },
      "text/plain": [
       "interactive(children=(FloatSlider(value=1.0, description='a系数', max=3.0, min=0.1), FloatSlider(value=-2.0, des…"
      ]
     },
     "metadata": {},
     "output_type": "display_data"
    },
    {
     "data": {
      "text/plain": [
       "<function __main__.plot_gradient(a=1.0, b=-2.0, x0=0.0)>"
      ]
     },
     "execution_count": 1,
     "metadata": {},
     "output_type": "execute_result"
    }
   ],
   "source": [
    "import numpy as np\n",
    "import matplotlib.pyplot as plt\n",
    "from ipywidgets import interact, FloatSlider\n",
    "\n",
    "# 设置中文字体\n",
    "plt.rcParams['font.sans-serif'] = ['Microsoft YaHei']  # 或者选择其他支持中文的字体，如 SimHei\n",
    "plt.rcParams['axes.unicode_minus'] = False  # 解决负号显示问题\n",
    "\n",
    "# 配置图形尺寸\n",
    "plt.figure(figsize=(10, 6))\n",
    "\n",
    "def plot_gradient(a=1.0, b=-2.0, x0=0.0):\n",
    "    # 清除之前的图形\n",
    "    plt.clf()\n",
    "    \n",
    "    # 生成数据\n",
    "    x = np.linspace(-5, 5, 100)\n",
    "    y = a * x**2 + b * x  # 二次函数\n",
    "    derivative = 2*a*x0 + b  # 导数（梯度）\n",
    "    tangent = derivative*(x - x0) + (a*x0**2 + b*x0)  # 切线方程\n",
    "\n",
    "    # 绘制主函数\n",
    "    plt.plot(x, y, label=f\"f(x) = {a}x² + {b}x\", lw=2)\n",
    "    \n",
    "    # 绘制切线和标记点\n",
    "    plt.plot(x, tangent, '--r', label=f\"梯度（导数）: {derivative:.2f}\")\n",
    "    plt.scatter(x0, a*x0**2 + b*x0, c='red', s=100, zorder=5)\n",
    "    \n",
    "    # 设置图形参数\n",
    "    plt.title(\"梯度可视化演示\")\n",
    "    plt.xlabel(\"x\")\n",
    "    plt.ylabel(\"f(x)\")\n",
    "    plt.grid(True)\n",
    "    plt.legend()\n",
    "    plt.ylim(-10, 10)\n",
    "    plt.xlim(-5, 5)\n",
    "    \n",
    "    # 显示图形\n",
    "    plt.show()\n",
    "\n",
    "# 创建交互式控件\n",
    "interact(\n",
    "    plot_gradient,\n",
    "    a=FloatSlider(value=1, min=0.1, max=3, step=0.1, description='a系数'),\n",
    "    b=FloatSlider(value=-2, min=-5, max=5, step=0.1, description='b系数'),\n",
    "    x0=FloatSlider(value=0, min=-5, max=5, step=0.1, description='观察点x₀')\n",
    ")\n"
   ]
  },
  {
   "cell_type": "code",
   "execution_count": 2,
   "id": "2ce60dac-d331-4e74-9289-1b4e111286e4",
   "metadata": {},
   "outputs": [
    {
     "data": {
      "text/plain": [
       "<Figure size 1000x600 with 0 Axes>"
      ]
     },
     "metadata": {},
     "output_type": "display_data"
    },
    {
     "data": {
      "application/vnd.jupyter.widget-view+json": {
       "model_id": "77a66833af5242dabe3818989a64191b",
       "version_major": 2,
       "version_minor": 0
      },
      "text/plain": [
       "interactive(children=(FloatSlider(value=1.0, description='a系数', max=3.0, min=0.1), FloatSlider(value=-2.0, des…"
      ]
     },
     "metadata": {},
     "output_type": "display_data"
    },
    {
     "data": {
      "text/plain": [
       "<function __main__.plot_gradient(a=1.0, b=-2.0, x0=0.0, learning_rate=0.1, steps=5)>"
      ]
     },
     "execution_count": 2,
     "metadata": {},
     "output_type": "execute_result"
    }
   ],
   "source": [
    "import numpy as np\n",
    "import matplotlib.pyplot as plt\n",
    "from ipywidgets import interact, FloatSlider\n",
    "\n",
    "# 设置中文字体\n",
    "plt.rcParams['font.sans-serif'] = ['Microsoft YaHei']  # 或者选择其他支持中文的字体，如 SimHei\n",
    "plt.rcParams['axes.unicode_minus'] = False  # 解决负号显示问题\n",
    "\n",
    "# 配置图形尺寸\n",
    "plt.figure(figsize=(10, 6))\n",
    "\n",
    "def plot_gradient(a=1.0, b=-2.0, x0=0.0, learning_rate=0.1, steps=5):\n",
    "    # 清除之前的图形\n",
    "    plt.clf()\n",
    "    \n",
    "    # 生成数据\n",
    "    x = np.linspace(-5, 5, 100)\n",
    "    y = a * x**2 + b * x  # 二次函数\n",
    "    derivative = 2*a*x0 + b  # 在x0处的导数（梯度）\n",
    "    tangent = derivative*(x - x0) + (a*x0**2 + b*x0)  # 切线方程\n",
    "\n",
    "    # 绘制主函数\n",
    "    plt.plot(x, y, label=f\"f(x) = {a}x² + {b}x\", lw=2)\n",
    "    \n",
    "    # 绘制切线和标记点\n",
    "    plt.plot(x, tangent, '--r', label=f\"梯度（导数）: {derivative:.2f}\")\n",
    "    plt.scatter(x0, a*x0**2 + b*x0, c='red', s=100, zorder=5)\n",
    "    \n",
    "    # 展示梯度下降的过程\n",
    "    current_x = x0\n",
    "    for step in range(int(steps)):\n",
    "        # 计算梯度下降后的新位置\n",
    "        current_x = current_x - learning_rate * derivative\n",
    "        \n",
    "        # 绘制从当前点沿梯度负方向下降的箭头\n",
    "        plt.arrow(current_x, a*current_x**2 + b*current_x, 0, -0.5, \n",
    "                  head_width=0.3, head_length=0.3, fc='blue', ec='blue')\n",
    "    \n",
    "    # 设置图形参数\n",
    "    plt.title(\"梯度可视化演示 - 负梯度方向下降\")\n",
    "    plt.xlabel(\"x\")\n",
    "    plt.ylabel(\"f(x)\")\n",
    "    plt.grid(True)\n",
    "    plt.legend()\n",
    "    plt.ylim(-10, 10)\n",
    "    plt.xlim(-5, 5)\n",
    "    \n",
    "    # 显示图形\n",
    "    plt.show()\n",
    "\n",
    "# 创建交互式控件\n",
    "interact(\n",
    "    plot_gradient,\n",
    "    a=FloatSlider(value=1, min=0.1, max=3, step=0.1, description='a系数'),\n",
    "    b=FloatSlider(value=-2, min=-5, max=5, step=0.1, description='b系数'),\n",
    "    x0=FloatSlider(value=0, min=-5, max=5, step=0.1, description='观察点x₀'),\n",
    "    learning_rate=FloatSlider(value=0.1, min=0.01, max=1.0, step=0.01, description='学习率'),\n",
    "    steps=FloatSlider(value=5, min=1, max=20, step=1, description='步数')\n",
    ")\n"
   ]
  },
  {
   "cell_type": "code",
   "execution_count": 3,
   "id": "48665590-5164-45ff-80a0-1a22cece5396",
   "metadata": {},
   "outputs": [
    {
     "data": {
      "application/vnd.jupyter.widget-view+json": {
       "model_id": "dfbf25c762ee4f55a233741ac59789c7",
       "version_major": 2,
       "version_minor": 0
      },
      "text/plain": [
       "interactive(children=(FloatSlider(value=-4.0, continuous_update=False, description='x0', max=5.0, min=-5.0), F…"
      ]
     },
     "execution_count": 3,
     "metadata": {},
     "output_type": "execute_result"
    }
   ],
   "source": [
    "\n",
    "import numpy as np\n",
    "import matplotlib.pyplot as plt\n",
    "from ipywidgets import interactive, FloatSlider\n",
    "\n",
    "# 定义一个简单的函数作为例子\n",
    "def f(x, y):\n",
    "    return x**2 + 2*y**2\n",
    "\n",
    "# 梯度函数\n",
    "def grad_f(x, y):\n",
    "    return np.array([2*x, 4*y])\n",
    "\n",
    "# 梯度下降函数\n",
    "def gradient_descent(x0, y0, learning_rate, num_steps):\n",
    "    x, y = x0, y0\n",
    "    history = [(x, y)]\n",
    "    for _ in range(num_steps):\n",
    "        grad = grad_f(x, y)\n",
    "        x -= learning_rate * grad[0]\n",
    "        y -= learning_rate * grad[1]\n",
    "        history.append((x, y))\n",
    "    return history\n",
    "\n",
    "# 绘图函数\n",
    "def plot_gradient_descent(x0, y0, learning_rate):\n",
    "    history = gradient_descent(x0, y0, learning_rate, 50)\n",
    "    x = np.linspace(-5, 5, 400)\n",
    "    y = np.linspace(-5, 5, 400)\n",
    "    X, Y = np.meshgrid(x, y)\n",
    "    Z = f(X, Y)\n",
    "\n",
    "    plt.figure(figsize=(10, 8))\n",
    "    contour = plt.contour(X, Y, Z, 30, colors='black', alpha=0.8)\n",
    "    plt.clabel(contour, inline=1, fontsize=10)\n",
    "    plt.imshow(Z, extent=[-5, 5, -5, 5], origin='lower', cmap='RdGy', alpha=0.8)\n",
    "    plt.plot([p[0] for p in history], [p[1] for p in history], 'r-o')\n",
    "    plt.plot(x0, y0, 'bo')  # 初始点\n",
    "    plt.title(f\"Gradient Descent with Learning Rate={learning_rate}\")\n",
    "    plt.xlabel('X')\n",
    "    plt.ylabel('Y')\n",
    "    plt.show()\n",
    "\n",
    "# 使用ipywidgets创建交互界面\n",
    "def interactive_plot(x0, y0, learning_rate):\n",
    "    plot_gradient_descent(x0, y0, learning_rate)\n",
    "\n",
    "# 使用ipywidgets的interactive功能\n",
    "interactive_plot_interactive = interactive(interactive_plot, \n",
    "                                           x0=FloatSlider(value=-4.0, min=-5.0, max=5.0, step=0.1, description='x0', continuous_update=False),\n",
    "                                           y0=FloatSlider(value=4.0, min=-5.0, max=5.0, step=0.1, description='y0', continuous_update=False),\n",
    "                                           learning_rate=FloatSlider(value=0.1, min=0.01, max=0.5, step=0.01, description='Learning Rate', continuous_update=False))\n",
    "\n",
    "# 显示交互界面\n",
    "interactive_plot_interactive"
   ]
  },
  {
   "cell_type": "code",
   "execution_count": 4,
   "id": "cd972382-2278-47de-88a5-da88c2d149d2",
   "metadata": {},
   "outputs": [
    {
     "data": {
      "application/vnd.jupyter.widget-view+json": {
       "model_id": "56644a6d2ef840feb04edc6c84670d60",
       "version_major": 2,
       "version_minor": 0
      },
      "text/plain": [
       "interactive(children=(FloatSlider(value=2.0, description='X坐标', max=5.0, min=-5.0), FloatSlider(value=2.0, des…"
      ]
     },
     "metadata": {},
     "output_type": "display_data"
    }
   ],
   "source": [
    "import numpy as np\n",
    "import matplotlib.pyplot as plt\n",
    "from ipywidgets import interact, FloatSlider\n",
    "\n",
    "# 定义目标函数和梯度计算\n",
    "def f(x, y):\n",
    "    return x**2 + 2*y**2  # 可以替换为其他函数\n",
    "\n",
    "def compute_gradient(x, y):\n",
    "    dfdx = 2*x  # f对x的偏导\n",
    "    dfdy = 4*y  # f对y的偏导\n",
    "    return dfdx, dfdy\n",
    "\n",
    "# 创建交互式可视化\n",
    "def plot_gradient(x=2.0, y=2.0, theta=0.0):\n",
    "    # 计算梯度和最速下降方向\n",
    "    dfdx, dfdy = compute_gradient(x, y)\n",
    "    grad_norm = np.linalg.norm([dfdx, dfdy])\n",
    "    \n",
    "    # 生成网格\n",
    "    X, Y = np.meshgrid(np.linspace(-5,5,50), np.linspace(-5,5,50))\n",
    "    Z = f(X, Y)\n",
    "    \n",
    "    # 创建图形\n",
    "    plt.figure(figsize=(10,8))\n",
    "    \n",
    "    # 绘制等高线\n",
    "    plt.contour(X, Y, Z, levels=20, alpha=0.5)\n",
    "    \n",
    "    # 绘制当前点\n",
    "    plt.scatter(x, y, color='red', s=50, zorder=5)\n",
    "    \n",
    "    if grad_norm > 0:\n",
    "        # 绘制梯度方向（上升方向）\n",
    "        plt.quiver(x, y, dfdx, dfdy, \n",
    "                  angles='xy', scale_units='xy', scale=10,\n",
    "                  color='blue', width=0.005, \n",
    "                  label=f'Gradient ({dfdx:.1f}, {dfdy:.1f})')\n",
    "        \n",
    "        # 绘制最速下降方向（负梯度方向）\n",
    "        plt.quiver(x, y, -dfdx, -dfdy, \n",
    "                  angles='xy', scale_units='xy', scale=10,\n",
    "                  color='darkblue', width=0.005,\n",
    "                  label='Steepest Descent')\n",
    "    \n",
    "    # 绘制用户选择的方向\n",
    "    dir_x = np.cos(theta)\n",
    "    dir_y = np.sin(theta)\n",
    "    plt.quiver(x, y, dir_x, dir_y, \n",
    "              angles='xy', scale_units='xy', scale=1,\n",
    "              color='green', width=0.005,\n",
    "              label='Selected Direction')\n",
    "    \n",
    "    # 计算方向导数\n",
    "    directional_derivative = dfdx*dir_x + dfdy*dir_y\n",
    "    \n",
    "    # 可视化设置\n",
    "    plt.xlim(-5, 5)\n",
    "    plt.ylim(-5, 5)\n",
    "    plt.title(f\"Directional Derivative: {directional_derivative:.2f}\\n\"\n",
    "             f\"(Most Negative = Fastest Descent)\")\n",
    "    plt.xlabel('x')\n",
    "    plt.ylabel('y')\n",
    "    plt.grid(True)\n",
    "    plt.legend()\n",
    "    plt.show()\n",
    "\n",
    "# 创建交互控件\n",
    "interact(plot_gradient,\n",
    "         x=FloatSlider(min=-5, max=5, step=0.1, value=2, description='X坐标'),\n",
    "         y=FloatSlider(min=-5, max=5, step=0.1, value=2, description='Y坐标'),\n",
    "         theta=FloatSlider(min=0, max=2*np.pi, step=0.1, \n",
    "                          value=0, description='方向角度'));"
   ]
  },
  {
   "cell_type": "code",
   "execution_count": 5,
   "id": "486cbaad-b1d2-4ab2-8b86-dfbe3da4994f",
   "metadata": {},
   "outputs": [
    {
     "data": {
      "application/vnd.jupyter.widget-view+json": {
       "model_id": "ebc04f86d77e483b9826fbc5973f556c",
       "version_major": 2,
       "version_minor": 0
      },
      "text/plain": [
       "interactive(children=(FloatSlider(value=2.0, description='X', max=5.0, min=-5.0), FloatSlider(value=2.0, descr…"
      ]
     },
     "metadata": {},
     "output_type": "display_data"
    }
   ],
   "source": [
    "import numpy as np\n",
    "import matplotlib.pyplot as plt\n",
    "from ipywidgets import interact, FloatSlider\n",
    "\n",
    "def f(x, y):\n",
    "    return x**2 + 3*y**2  # 示例函数（可修改）\n",
    "\n",
    "def gradient(x, y):\n",
    "    return np.array([2*x, 6*y])  # 梯度计算\n",
    "\n",
    "# 绘制方向导数的极坐标分布\n",
    "def plot_steepest_descent(x=2.0, y=2.0):\n",
    "    # 计算当前梯度\n",
    "    grad = gradient(x, y)\n",
    "    grad_norm = np.linalg.norm(grad)\n",
    "    \n",
    "    # 生成角度空间\n",
    "    theta = np.linspace(0, 2*np.pi, 100)\n",
    "    dir_vectors = np.array([np.cos(theta), np.sin(theta)]).T  # 单位方向向量\n",
    "    \n",
    "    # 计算所有方向导数\n",
    "    directional_derivatives = dir_vectors @ grad\n",
    "    \n",
    "    # 创建画布\n",
    "    plt.figure(figsize=(12, 5))\n",
    "    \n",
    "    # ---------- 左图：极坐标方向导数分布 ----------\n",
    "    plt.subplot(121, polar=True)\n",
    "    plt.plot(theta, directional_derivatives, lw=2)\n",
    "    \n",
    "    # 标记负梯度方向（最速下降）\n",
    "    steepest_dir = theta[np.argmin(directional_derivatives)]\n",
    "    plt.vlines(steepest_dir, 0, np.min(directional_derivatives), \n",
    "               colors='r', linestyles='dashed', label='Steepest Descent')\n",
    "    \n",
    "    plt.title(\"Directional Derivatives (Lower is Faster Descent)\", pad=20)\n",
    "    plt.legend()\n",
    "    \n",
    "    # ---------- 右图：向量场对比 ----------\n",
    "    plt.subplot(122)\n",
    "    \n",
    "    # 绘制等高线\n",
    "    X, Y = np.meshgrid(np.linspace(-5,5,50), np.linspace(-5,5,50))\n",
    "    Z = f(X, Y)\n",
    "    plt.contour(X, Y, Z, levels=20, alpha=0.4)\n",
    "    \n",
    "    # 绘制当前点\n",
    "    plt.scatter(x, y, c='red', s=50, zorder=5)\n",
    "    \n",
    "    # 绘制梯度方向\n",
    "    if grad_norm > 0:\n",
    "        plt.quiver(x, y, grad[0], grad[1], \n",
    "                   angles='xy', scale_units='xy', scale=20,\n",
    "                   color='blue', width=0.005, label='Gradient')\n",
    "        plt.quiver(x, y, -grad[0], -grad[1], \n",
    "                   angles='xy', scale_units='xy', scale=20,\n",
    "                   color='darkred', width=0.005, label='Steepest Descent')\n",
    "    \n",
    "    # 绘制随机方向对比\n",
    "    random_dir = np.random.randn(2)  # 随机方向\n",
    "    random_dir /= np.linalg.norm(random_dir)\n",
    "    plt.quiver(x, y, random_dir[0], random_dir[1], \n",
    "               angles='xy', scale_units='xy', scale=1,\n",
    "               color='green', width=0.005, label='Random Direction')\n",
    "    \n",
    "    # 标注下降速度\n",
    "    steepest_speed = -np.min(directional_derivatives)\n",
    "    random_speed = -np.dot(grad, random_dir)\n",
    "    plt.title(f\"Descent Speed:\\nSteepest={steepest_speed:.2f} vs Random={random_speed:.2f}\")\n",
    "    \n",
    "    plt.xlim(-5,5)\n",
    "    plt.ylim(-5,5)\n",
    "    plt.legend()\n",
    "    plt.tight_layout()\n",
    "    plt.show()\n",
    "\n",
    "# 创建交互控件\n",
    "interact(plot_steepest_descent,\n",
    "         x=FloatSlider(min=-5, max=5, value=2, step=0.1, description='X'),\n",
    "         y=FloatSlider(min=-5, max=5, value=2, step=0.1, description='Y'));"
   ]
  },
  {
   "cell_type": "code",
   "execution_count": 6,
   "id": "267ad42c-d812-4f81-9b5f-8c8d5ea23b98",
   "metadata": {},
   "outputs": [
    {
     "data": {
      "application/vnd.jupyter.widget-view+json": {
       "model_id": "aad0bd8b5a7e4f9284dac7405598d474",
       "version_major": 2,
       "version_minor": 0
      },
      "text/plain": [
       "interactive(children=(FloatSlider(value=2.0, description='X', max=5.0, min=-5.0), FloatSlider(value=2.0, descr…"
      ]
     },
     "metadata": {},
     "output_type": "display_data"
    },
    {
     "data": {
      "text/plain": [
       "<function __main__.improved_plot(x=2.0, y=2.0)>"
      ]
     },
     "execution_count": 6,
     "metadata": {},
     "output_type": "execute_result"
    }
   ],
   "source": [
    "import numpy as np\n",
    "import matplotlib.pyplot as plt\n",
    "from ipywidgets import interact, FloatSlider\n",
    "\n",
    "def f(x, y):\n",
    "    return x**2 + 3*y**2  # 可修改函数\n",
    "\n",
    "def gradient(x, y):\n",
    "    return np.array([2*x, 6*y])\n",
    "\n",
    "def improved_plot(x=2.0, y=2.0):\n",
    "    grad = gradient(x, y)\n",
    "    grad_norm = np.linalg.norm(grad)\n",
    "    \n",
    "    # 生成角度空间和方向导数\n",
    "    theta = np.linspace(0, 2*np.pi, 100)\n",
    "    dirs = np.vstack([np.cos(theta), np.sin(theta)])\n",
    "    derivs = dirs.T @ grad\n",
    "    \n",
    "    # 创建画布\n",
    "    plt.figure(figsize=(14, 6))\n",
    "    \n",
    "    # ========== 左图：增强型方向导数分析 ==========\n",
    "    ax1 = plt.subplot(121)\n",
    "    \n",
    "    # 绘制方向导数玫瑰图（颜色映射）\n",
    "    sc = ax1.scatter(theta, derivs, c=derivs, cmap='coolwarm', \n",
    "                    s=50, alpha=0.7, edgecolors='k',\n",
    "                    vmin=-np.max(np.abs(derivs)), \n",
    "                    vmax=np.max(np.abs(derivs)))\n",
    "    \n",
    "    # 标记关键方向\n",
    "    angles_to_mark = {\n",
    "        'Max Ascent': 0,  # 正梯度方向\n",
    "        'Steepest Descent': np.pi,  # 负梯度方向\n",
    "        'Zero Derivative': np.pi/2  # 与梯度垂直的方向\n",
    "    }\n",
    "    for label, angle in angles_to_mark.items():\n",
    "        ax1.axvline(angle, color='gray', linestyle='--', alpha=0.5)\n",
    "        ax1.text(angle, np.max(derivs)*1.1, label, rotation=90,\n",
    "                ha='center', va='bottom')\n",
    "    \n",
    "    # 添加极值标记\n",
    "    min_idx = np.argmin(derivs)\n",
    "    ax1.plot(theta[min_idx], derivs[min_idx], 'ro', markersize=10,\n",
    "           label=f'Min: {derivs[min_idx]:.1f}')\n",
    "    \n",
    "    ax1.set_title(\"方向导数随角度变化 (颜色越蓝下降越快)\", pad=15)\n",
    "    ax1.set_xlabel(\"方向角度 (弧度)\")\n",
    "    ax1.set_ylabel(\"方向导数值\")\n",
    "    ax1.set_xticks(np.linspace(0, 2*np.pi, 8),\n",
    "                  ['0', 'π/4', 'π/2', '3π/4', 'π', '5π/4', '3π/2', '7π/4'])\n",
    "    ax1.grid(True, alpha=0.3)\n",
    "    plt.colorbar(sc, ax=ax1, label='导数值')\n",
    "    \n",
    "    # ========== 右图：三维方向导数表面 ==========\n",
    "    ax2 = plt.subplot(122, projection='3d')\n",
    "    \n",
    "    # 生成三维方向分布\n",
    "    theta_mesh, phi_mesh = np.meshgrid(np.linspace(0, 2*np.pi, 50),\n",
    "                                     np.linspace(0, np.pi, 50))\n",
    "    dirs_3d = np.array([np.sin(phi_mesh)*np.cos(theta_mesh),\n",
    "                       np.sin(phi_mesh)*np.sin(theta_mesh),\n",
    "                       np.cos(phi_mesh)])\n",
    "    derivs_3d = dirs_3d.T @ np.append(grad, 0)  # 扩展到3D\n",
    "    \n",
    "    # 绘制三维表面（颜色表示导数值）\n",
    "    surf = ax2.plot_surface(theta_mesh, phi_mesh, derivs_3d, \n",
    "                           cmap='coolwarm', alpha=0.8,\n",
    "                           vmin=-np.max(np.abs(derivs_3d)),\n",
    "                           vmax=np.max(np.abs(derivs_3d)))\n",
    "    \n",
    "    # 标记最速下降方向\n",
    " #   ax2.plot([theta[min_idx]]*2, [np.pi/2]*2, [derivs[min_idx], 0], \n",
    " #           'r-', lw=2, label='Steepest Descent')\n",
    "    \n",
    "    ax2.set_title(\"三维方向导数分布\", pad=15)\n",
    "    ax2.set_xlabel(\"方位角\")\n",
    "    ax2.set_ylabel(\"极角\")\n",
    "    ax2.set_zlabel(\"导数值\")\n",
    "    plt.colorbar(surf, ax=ax2, label='导数值')\n",
    "    \n",
    "    plt.tight_layout()\n",
    "    plt.show()\n",
    "\n",
    "interact(improved_plot,\n",
    "         x=FloatSlider(min=-5, max=5, value=2, step=0.1, description='X'),\n",
    "         y=FloatSlider(min=-5, max=5, value=2, step=0.1, description='Y'))"
   ]
  },
  {
   "cell_type": "code",
   "execution_count": 7,
   "id": "37ada3da-36d4-4362-8330-72cd10625512",
   "metadata": {},
   "outputs": [
    {
     "data": {
      "application/vnd.jupyter.widget-view+json": {
       "model_id": "d6e1170fce5f469bb1bb9875f7d9b5c4",
       "version_major": 2,
       "version_minor": 0
      },
      "text/plain": [
       "interactive(children=(FloatSlider(value=2.0, description='X', max=5.0, min=-5.0), FloatSlider(value=2.0, descr…"
      ]
     },
     "metadata": {},
     "output_type": "display_data"
    },
    {
     "data": {
      "text/plain": [
       "<function __main__.interactive_3d_plot(x=2.0, y=2.0)>"
      ]
     },
     "execution_count": 7,
     "metadata": {},
     "output_type": "execute_result"
    }
   ],
   "source": [
    "import numpy as np\n",
    "import matplotlib.pyplot as plt\n",
    "from ipywidgets import interact, FloatSlider\n",
    "from matplotlib import cm\n",
    "\n",
    "def f(x, y):\n",
    "    return x**2 + 3*y**2\n",
    "\n",
    "def gradient(x, y):\n",
    "    return np.array([2*x, 6*y])\n",
    "\n",
    "def interactive_3d_plot(x=2.0, y=2.0):\n",
    "    grad = gradient(x, y)\n",
    "    theta = np.linspace(0, 2*np.pi, 100)\n",
    "    derivs = grad[0]*np.cos(theta) + grad[1]*np.sin(theta)\n",
    "    \n",
    "    fig = plt.figure(figsize=(14, 6))\n",
    "    \n",
    "    # 左图：增强版二维可视化\n",
    "    ax1 = fig.add_subplot(121)\n",
    "    ax1.plot(theta, derivs, 'b-', lw=2)\n",
    "    ax1.fill_between(theta, derivs, alpha=0.2, cmap='coolwarm')\n",
    "    ax1.axvline(np.pi, color='r', linestyle='--', label='Steepest Descent')\n",
    "    ax1.set_xticks(np.linspace(0, 2*np.pi, 5),\n",
    "                  ['0', 'π/2', 'π', '3π/2', '2π'])\n",
    "    ax1.set_xlabel('Direction Angle')\n",
    "    ax1.set_ylabel('Directional Derivative')\n",
    "    ax1.legend()\n",
    "    \n",
    "    # 右图：完全交互式三维图\n",
    "    ax2 = fig.add_subplot(122, projection='3d')\n",
    "    \n",
    "    # 生成三维方向数据\n",
    "    theta_3d = np.linspace(0, 2*np.pi, 50)\n",
    "    phi_3d = np.linspace(0, np.pi, 50)\n",
    "    theta_mesh, phi_mesh = np.meshgrid(theta_3d, phi_3d)\n",
    "    \n",
    "    # 转换为笛卡尔坐标\n",
    "    dir_x = np.sin(phi_mesh) * np.cos(theta_mesh)\n",
    "    dir_y = np.sin(phi_mesh) * np.sin(theta_mesh)\n",
    "    dir_z = np.cos(phi_mesh)\n",
    "    \n",
    "    # 计算方向导数（扩展到3D）\n",
    "    derivs_3d = grad[0]*dir_x + grad[1]*dir_y\n",
    "    \n",
    "    # 绘制三维表面\n",
    "    surf = ax2.plot_surface(\n",
    "        theta_mesh, phi_mesh, derivs_3d,\n",
    "        cmap=cm.coolwarm,\n",
    "        linewidth=0,\n",
    "        antialiased=False,\n",
    "        rstride=1, cstride=1,\n",
    "        alpha=0.7\n",
    "    )\n",
    "    \n",
    "    # 标记最速下降方向\n",
    "    min_idx = np.argmin(derivs)\n",
    "    ax2.plot(\n",
    "        [theta[min_idx]]*10, \n",
    "        [np.linspace(0, np.pi,10)], \n",
    "        [np.min(derivs_3d)]*10,\n",
    "        'r-', lw=3, label='Steepest Descent'\n",
    "    )\n",
    "    \n",
    "    ax2.set_xlabel('Azimuth Angle')\n",
    "    ax2.set_ylabel('Polar Angle')\n",
    "    ax2.set_zlabel('Derivative')\n",
    "    fig.colorbar(surf, ax=ax2, shrink=0.5)\n",
    "    \n",
    "    plt.tight_layout()\n",
    "    plt.show()\n",
    "\n",
    "interact(interactive_3d_plot,\n",
    "         x=FloatSlider(min=-5, max=5, value=2, description='X'),\n",
    "         y=FloatSlider(min=-5, max=5, value=2, description='Y'))"
   ]
  },
  {
   "cell_type": "code",
   "execution_count": 8,
   "id": "6f2ee218-16fc-4411-a59f-cd0317a69749",
   "metadata": {},
   "outputs": [
    {
     "data": {
      "application/vnd.jupyter.widget-view+json": {
       "model_id": "84982fc8dc5b496bafe937e767425910",
       "version_major": 2,
       "version_minor": 0
      },
      "text/plain": [
       "interactive(children=(FloatSlider(value=2.0, description='X', max=5.0, min=-5.0), FloatSlider(value=2.0, descr…"
      ]
     },
     "metadata": {},
     "output_type": "display_data"
    },
    {
     "data": {
      "text/plain": [
       "<function __main__.tan_theta_plot(x=2.0, y=2.0)>"
      ]
     },
     "execution_count": 8,
     "metadata": {},
     "output_type": "execute_result"
    }
   ],
   "source": [
    "import numpy as np\n",
    "import matplotlib.pyplot as plt\n",
    "from ipywidgets import interact, FloatSlider\n",
    "\n",
    "def f(x, y):\n",
    "    return x**2 + 3*y**2\n",
    "\n",
    "def gradient(x, y):\n",
    "    return np.array([2*x, 6*y])\n",
    "\n",
    "def tan_theta_plot(x=2.0, y=2.0):\n",
    "    grad = gradient(x, y)\n",
    "    theta = np.linspace(0, 2*np.pi, 100)\n",
    "    tan_theta = np.tan(theta)  # 计算正切值\n",
    "    \n",
    "    # 处理无穷大值（将超出显示范围的值设为NaN）\n",
    "    tan_theta_clipped = np.copy(tan_theta)\n",
    "    tan_theta_clipped[np.abs(tan_theta) > 10] = np.nan\n",
    "    \n",
    "    derivs = grad[0]*np.cos(theta) + grad[1]*np.sin(theta)\n",
    "    \n",
    "    plt.figure(figsize=(12, 6))\n",
    "    \n",
    "    # ========== 左图：正切坐标 ==========\n",
    "    plt.subplot(121)\n",
    "    plt.plot(tan_theta_clipped, derivs, 'b-', lw=2)\n",
    "    \n",
    "    # 标记关键斜率\n",
    "    markers = {\n",
    "        -1: '-1 (135°)', \n",
    "        0: '0 (0°)',\n",
    "        1: '1 (45°)',\n",
    "        np.nan: \"∞ (90°/270°)\"\n",
    "    }\n",
    "    \n",
    "    # 绘制关键渐近线\n",
    "    plt.axvline(-1, color='grey', linestyle=':', alpha=0.5)\n",
    "    plt.axvline(0, color='grey', linestyle=':', alpha=0.5)\n",
    "    plt.axvline(1, color='grey', linestyle=':', alpha=0.5)\n",
    "    \n",
    "    # 标注特殊点\n",
    "    for angle in [0, np.pi/4, np.pi/2, 3*np.pi/4, np.pi, 5*np.pi/4, 3*np.pi/2, 7*np.pi/4]:\n",
    "        t = np.tan(angle)\n",
    "        if np.abs(t) < 10:\n",
    "            plt.plot(t, grad[0]*np.cos(angle) + grad[1]*np.sin(angle), \n",
    "                    'ro' if angle == np.pi else 'ko')\n",
    "    \n",
    "    plt.title(\"方向导数 vs 方向斜率 tanθ\")\n",
    "    plt.xlabel(\"方向斜率 tanθ\")\n",
    "    plt.ylabel(\"方向导数值\")\n",
    "    plt.xlim(-5, 5)  # 控制显示范围\n",
    "    plt.grid(True, alpha=0.3)\n",
    "    \n",
    "    # ========== 右图：角度-导数对照 ==========\n",
    "    plt.subplot(122, projection='polar')\n",
    "    plt.plot(theta, derivs, 'r-', lw=2)\n",
    "    plt.fill(theta, derivs, 'r', alpha=0.1)\n",
    "    plt.title(\"角度坐标系对照\", pad=20)\n",
    "    \n",
    "    plt.tight_layout()\n",
    "    plt.show()\n",
    "\n",
    "interact(tan_theta_plot,\n",
    "         x=FloatSlider(min=-5, max=5, value=2, description='X'),\n",
    "         y=FloatSlider(min=-5, max=5, value=2, description='Y'))"
   ]
  },
  {
   "cell_type": "code",
   "execution_count": 9,
   "id": "330f14ef-4a8d-4c24-8fec-0c38e96f9ae3",
   "metadata": {},
   "outputs": [
    {
     "data": {
      "application/vnd.jupyter.widget-view+json": {
       "model_id": "ec0a65fee7dc449c9ec423cef6765fbe",
       "version_major": 2,
       "version_minor": 0
      },
      "text/plain": [
       "interactive(children=(FloatSlider(value=2.0, description='X', max=5.0, min=-5.0), FloatSlider(value=2.0, descr…"
      ]
     },
     "metadata": {},
     "output_type": "display_data"
    },
    {
     "data": {
      "text/plain": [
       "<function __main__.improved_plot(x=2.0, y=2.0)>"
      ]
     },
     "execution_count": 9,
     "metadata": {},
     "output_type": "execute_result"
    }
   ],
   "source": [
    "import numpy as np\n",
    "import matplotlib.pyplot as plt\n",
    "from ipywidgets import interact, FloatSlider\n",
    "\n",
    "def f(x, y):\n",
    "    return x**2 + 3*y**2  # 可修改函数\n",
    "\n",
    "def gradient(x, y):\n",
    "    return np.array([2*x, 6*y])\n",
    "\n",
    "def improved_plot(x=2.0, y=2.0):\n",
    "    grad = gradient(x, y)\n",
    "    grad_norm = np.linalg.norm(grad)\n",
    "    \n",
    "    # 生成角度空间和方向导数\n",
    "    theta = np.linspace(0, 2*np.pi, 100)\n",
    "    dirs = np.vstack([np.cos(theta), np.sin(theta)])\n",
    "    derivs = dirs.T @ grad\n",
    "    \n",
    "    # 创建画布\n",
    "    plt.figure(figsize=(14, 6))\n",
    "    \n",
    "    # ========== 左图：增强型方向导数分析 ==========\n",
    "    ax1 = plt.subplot(121)\n",
    "    \n",
    "    # 绘制方向导数玫瑰图（颜色映射）\n",
    "    sc = ax1.scatter(theta, derivs, c=derivs, cmap='coolwarm', \n",
    "                    s=50, alpha=0.7, edgecolors='k',\n",
    "                    vmin=-np.max(np.abs(derivs)), \n",
    "                    vmax=np.max(np.abs(derivs)))\n",
    "      \n",
    "    # 添加极值标记\n",
    "    min_idx = np.argmin(derivs)\n",
    "    ax1.plot(theta[min_idx], derivs[min_idx], 'ro', markersize=10,\n",
    "           label=f'Min: {derivs[min_idx]:.1f}')\n",
    "    \n",
    "    ax1.set_title(\"方向导数随角度变化 (颜色越蓝下降越快)\", pad=15)\n",
    "    ax1.set_xlabel(\"方向角度 (弧度)\")\n",
    "    ax1.set_ylabel(\"方向导数值\")\n",
    "    ax1.set_xticks(np.linspace(0, 2*np.pi, 8),\n",
    "                  ['0', 'π/4', 'π/2', '3π/4', 'π', '5π/4', '3π/2', '7π/4'])\n",
    "    ax1.grid(True, alpha=0.3)\n",
    "\n",
    "    \n",
    "   \n",
    "    plt.tight_layout()\n",
    "    plt.show()\n",
    "\n",
    "interact(improved_plot,\n",
    "         x=FloatSlider(min=-5, max=5, value=2, step=0.1, description='X'),\n",
    "         y=FloatSlider(min=-5, max=5, value=2, step=0.1, description='Y'))"
   ]
  },
  {
   "cell_type": "code",
   "execution_count": 10,
   "id": "588a7035-3e44-4bb8-a76e-9a89b56b6411",
   "metadata": {},
   "outputs": [
    {
     "data": {
      "application/vnd.jupyter.widget-view+json": {
       "model_id": "ecde62d5ed6d406da776214c4130b9be",
       "version_major": 2,
       "version_minor": 0
      },
      "text/plain": [
       "interactive(children=(FloatSlider(value=2.0, description='X', max=5.0, min=-5.0), FloatSlider(value=2.0, descr…"
      ]
     },
     "metadata": {},
     "output_type": "display_data"
    },
    {
     "data": {
      "text/plain": [
       "<function __main__.enhanced_plot(x=2.0, y=2.0)>"
      ]
     },
     "execution_count": 10,
     "metadata": {},
     "output_type": "execute_result"
    }
   ],
   "source": [
    "import numpy as np\n",
    "import matplotlib.pyplot as plt\n",
    "from ipywidgets import interact, FloatSlider\n",
    "\n",
    "def f(x, y):\n",
    "    return x**2 + 3*y**2\n",
    "\n",
    "def gradient(x, y):\n",
    "    return np.array([2*x, 6*y])\n",
    "\n",
    "def enhanced_plot(x=2.0, y=2.0):\n",
    "    grad = gradient(x, y)\n",
    "    grad_norm = np.linalg.norm(grad)\n",
    "   \n",
    "    \n",
    "    theta = np.linspace(0, 2*np.pi, 100)\n",
    "    dirs = np.vstack([np.cos(theta), np.sin(theta)])\n",
    "    derivs = dirs.T @ grad\n",
    "    \n",
    "    plt.figure(figsize=(14, 6))\n",
    "    ax = plt.subplot(121)\n",
    "    \n",
    "    # 绘制主数据\n",
    "    sc = ax.scatter(theta, derivs, c=derivs, cmap='coolwarm', \n",
    "                   s=50, alpha=0.7, edgecolors='k',\n",
    "                   vmin=-np.max(np.abs(derivs)), \n",
    "                   vmax=np.max(np.abs(derivs)))\n",
    "    \n",
    "    # 极值标记\n",
    "    min_idx = np.argmin(derivs)\n",
    "    ax.plot(theta[min_idx], derivs[min_idx], 'ro', markersize=10,\n",
    "           label=f'Steepest Descent ({derivs[min_idx]:.1f})')\n",
    "    \n",
    "\n",
    "   \n",
    "    \n",
    "    # ========== 图形装饰 ==========\n",
    "    ax.set_title(\"Directional Derivatives with Scenario Markers\", pad=15)\n",
    "    ax.set_xlabel(\"Direction Angle (radians)\")\n",
    "    ax.set_ylabel(\"Derivative Value\")\n",
    "    ax.set_xticks(np.linspace(0, 2*np.pi, 8),\n",
    "                 ['0', 'π/4', 'π/2', '3π/4', 'π', '5π/4', '3π/2', '7π/4'])\n",
    "    ax.grid(True, alpha=0.3)\n",
    "    ax.legend()\n",
    "    \n",
    "    plt.tight_layout()\n",
    "    plt.show()\n",
    "\n",
    "interact(enhanced_plot,\n",
    "         x=FloatSlider(min=-5, max=5, value=2, step=0.1, description='X'),\n",
    "         y=FloatSlider(min=-5, max=5, value=2, step=0.1, description='Y'))"
   ]
  },
  {
   "cell_type": "code",
   "execution_count": null,
   "id": "6f965e25-9218-4d9d-8e42-27204e49a0eb",
   "metadata": {},
   "outputs": [],
   "source": []
  }
 ],
 "metadata": {
  "kernelspec": {
   "display_name": "Python 3 (ipykernel)",
   "language": "python",
   "name": "python3"
  },
  "language_info": {
   "codemirror_mode": {
    "name": "ipython",
    "version": 3
   },
   "file_extension": ".py",
   "mimetype": "text/x-python",
   "name": "python",
   "nbconvert_exporter": "python",
   "pygments_lexer": "ipython3",
   "version": "3.13.2"
  }
 },
 "nbformat": 4,
 "nbformat_minor": 5
}
